{
 "cells": [
  {
   "cell_type": "code",
   "execution_count": 112,
   "metadata": {},
   "outputs": [
    {
     "name": "stdout",
     "output_type": "stream",
     "text": [
      "5\n"
     ]
    }
   ],
   "source": [
    "'''Оператор присваивания выполняется следующим образом, сначала вычисляется значение выражения, указанного в правой части оператора, а затем его результат записывается в область памяти (переменную), имя которой указано слева. Например, запись a = 5 означает, что переменной а присваивается значение 5.'''\n",
    "a = 5 # оператор присваивания [=], присваивает переменной с именем \"a\" её значение равное \"5\"\n",
    "print(a)"
   ]
  },
  {
   "cell_type": "code",
   "execution_count": 5,
   "metadata": {},
   "outputs": [
    {
     "name": "stdout",
     "output_type": "stream",
     "text": [
      "10\n"
     ]
    }
   ],
   "source": [
    "b = a + 5\n",
    "print(b)"
   ]
  },
  {
   "cell_type": "code",
   "execution_count": 7,
   "metadata": {},
   "outputs": [
    {
     "name": "stdout",
     "output_type": "stream",
     "text": [
      "105\n"
     ]
    }
   ],
   "source": [
    "c = a + b * 10\n",
    "print(c)"
   ]
  },
  {
   "cell_type": "code",
   "execution_count": 8,
   "metadata": {},
   "outputs": [
    {
     "name": "stdout",
     "output_type": "stream",
     "text": [
      "215\n"
     ]
    }
   ],
   "source": [
    "c = c + c + 5 # переменной можно присваивать даже саму себя (!ВАЖНО!)\n",
    "print(c)"
   ]
  },
  {
   "cell_type": "code",
   "execution_count": 9,
   "metadata": {},
   "outputs": [
    {
     "name": "stdout",
     "output_type": "stream",
     "text": [
      "230\n"
     ]
    }
   ],
   "source": [
    "print(a + b + c)"
   ]
  },
  {
   "cell_type": "code",
   "execution_count": 10,
   "metadata": {},
   "outputs": [
    {
     "name": "stdout",
     "output_type": "stream",
     "text": [
      "<class 'int'>\n"
     ]
    }
   ],
   "source": [
    "z = type(c) # переменная z - получает тот же тип, что и переменная c, то есть тип int (присваивание типа от другой переменной)\n",
    "print(z)"
   ]
  },
  {
   "cell_type": "code",
   "execution_count": 12,
   "metadata": {},
   "outputs": [
    {
     "name": "stdout",
     "output_type": "stream",
     "text": [
      "15\n"
     ]
    }
   ],
   "source": [
    "a = 10\n",
    "a += 5 # a = a + 5 \n",
    "print(a)"
   ]
  },
  {
   "cell_type": "code",
   "execution_count": 13,
   "metadata": {},
   "outputs": [
    {
     "name": "stdout",
     "output_type": "stream",
     "text": [
      "5\n"
     ]
    }
   ],
   "source": [
    "a = 10\n",
    "a -= 5 # a = a - 5 \n",
    "print(a)"
   ]
  },
  {
   "cell_type": "code",
   "execution_count": 14,
   "metadata": {},
   "outputs": [
    {
     "name": "stdout",
     "output_type": "stream",
     "text": [
      "50\n"
     ]
    }
   ],
   "source": [
    "a = 10\n",
    "a *= 5 # a = a * 5 \n",
    "print(a)"
   ]
  },
  {
   "cell_type": "code",
   "execution_count": 15,
   "metadata": {},
   "outputs": [
    {
     "name": "stdout",
     "output_type": "stream",
     "text": [
      "2.0\n"
     ]
    }
   ],
   "source": [
    "a = 10\n",
    "a /= 5 # a = a / 5 \n",
    "print(a)"
   ]
  },
  {
   "cell_type": "code",
   "execution_count": 19,
   "metadata": {},
   "outputs": [
    {
     "name": "stdout",
     "output_type": "stream",
     "text": [
      "2\n"
     ]
    }
   ],
   "source": [
    "a = 11\n",
    "a //= 5 # a = a // 5 \n",
    "print(a)"
   ]
  },
  {
   "cell_type": "code",
   "execution_count": 20,
   "metadata": {},
   "outputs": [
    {
     "name": "stdout",
     "output_type": "stream",
     "text": [
      "1\n"
     ]
    }
   ],
   "source": [
    "a = 11\n",
    "a %= 5 # a = a % 5 \n",
    "print(a)"
   ]
  },
  {
   "cell_type": "code",
   "execution_count": 21,
   "metadata": {},
   "outputs": [
    {
     "name": "stdout",
     "output_type": "stream",
     "text": [
      "строка\n"
     ]
    }
   ],
   "source": [
    "a = 'строка' # строка в одинарных кавычках\n",
    "print(a)"
   ]
  },
  {
   "cell_type": "code",
   "execution_count": 22,
   "metadata": {},
   "outputs": [
    {
     "name": "stdout",
     "output_type": "stream",
     "text": [
      "другая строка\n"
     ]
    }
   ],
   "source": [
    "a = \"другая строка\" # строка в двойных кавычках\n",
    "print(a)"
   ]
  },
  {
   "cell_type": "code",
   "execution_count": 25,
   "metadata": {},
   "outputs": [
    {
     "name": "stdout",
     "output_type": "stream",
     "text": [
      "строка с \" кавычкой внутри\n"
     ]
    }
   ],
   "source": [
    "a = 'строка с \" кавычкой внутри' # строка в одинарных кавычках, если написать внутри двойную кавычку будет поймана в строку\n",
    "print(a)"
   ]
  },
  {
   "cell_type": "code",
   "execution_count": null,
   "metadata": {},
   "outputs": [],
   "source": [
    "a = \"строка с ' кавычкой внутри\" # строка в двойных кавычках, если написать внутри одинарную кавычку будет поймана в строку\n",
    "print(a)"
   ]
  },
  {
   "cell_type": "code",
   "execution_count": 26,
   "metadata": {},
   "outputs": [
    {
     "name": "stdout",
     "output_type": "stream",
     "text": [
      "многострочная \n",
      "строка\n",
      "длинная\n",
      "\n"
     ]
    }
   ],
   "source": [
    "a = \"\"\"многострочная \n",
    "строка\n",
    "длинная\n",
    "\"\"\" # это нужно для больших объёмов текста, можно закрывать текст в ТРИ двойных кавычки или в ТРИ одинарных кавычки\n",
    "print(a)"
   ]
  },
  {
   "cell_type": "code",
   "execution_count": 27,
   "metadata": {},
   "outputs": [
    {
     "name": "stdout",
     "output_type": "stream",
     "text": [
      "многострочная \n",
      "строка\n",
      "длинная\n",
      "\n"
     ]
    }
   ],
   "source": [
    "a = '''многострочная \n",
    "строка\n",
    "длинная\n",
    "''' # это нужно для больших объёмов текста, можно закрывать в ТРИ двойных кавычки или в ТРИ одинарных кавычки\n",
    "print(a)"
   ]
  },
  {
   "cell_type": "code",
   "execution_count": 48,
   "metadata": {},
   "outputs": [
    {
     "name": "stdout",
     "output_type": "stream",
     "text": [
      "строка с перe\n",
      "водом строки и табу\tляцией\n"
     ]
    }
   ],
   "source": [
    "a = \"строка с перe\\nводом строки и табу\\tляцией\" # управляющие строкой операторы \\n - перевод строки вниз \\t - табуляция \n",
    "print(a)"
   ]
  },
  {
   "cell_type": "code",
   "execution_count": 49,
   "metadata": {},
   "outputs": [
    {
     "name": "stdout",
     "output_type": "stream",
     "text": [
      "Your result is too HUGE this number is much higher than the last\n",
      "number that has a name in science as quadragintillion (1E123)!!!\n",
      "Python calculator is not ready for this, we apologize¯\\_{•_•}_/¯\n"
     ]
    }
   ],
   "source": [
    "a = \"Your result is too HUGE this number is much higher than the last\\nnumber that has a name in science as quadragintillion (1E123)!!!\\nPython calculator is not ready for this, we apologize¯\\_{•_•}_/¯\"\n",
    "print(a) # например такое использование управляющего строкой оператора \\n в большом объёме текста"
   ]
  },
  {
   "cell_type": "code",
   "execution_count": 54,
   "metadata": {},
   "outputs": [
    {
     "name": "stdout",
     "output_type": "stream",
     "text": [
      "\tПривет\n",
      "\tПривет\n",
      "\tПривет\n",
      "\tПривет\n",
      "\tПривет\n",
      "\tПривет\n"
     ]
    }
   ],
   "source": [
    "a = \"\\tПривет\\n\\tПривет\\n\\tПривет\\n\\tПривет\\n\\tПривет\\n\\tПривет\"\n",
    "print(a) # использование управляющих строкой операторов \\n и \\t одновременно "
   ]
  },
  {
   "cell_type": "code",
   "execution_count": 57,
   "metadata": {},
   "outputs": [
    {
     "name": "stdout",
     "output_type": "stream",
     "text": [
      "строка с \\n экранированием. Так же экранируем \" кавычку\n"
     ]
    }
   ],
   "source": [
    "a = \"строка с \\\\n экранированием. Так же экранируем \\\" кавычку\" # в python экранирование крайне важно, например для прописания пути к файлу на компьютере  \n",
    "print(a)"
   ]
  },
  {
   "cell_type": "code",
   "execution_count": 58,
   "metadata": {},
   "outputs": [
    {
     "name": "stdout",
     "output_type": "stream",
     "text": [
      "AAABBB\n"
     ]
    }
   ],
   "source": [
    "print('AAA'+'BBB') # Конкатенация строк"
   ]
  },
  {
   "cell_type": "code",
   "execution_count": 59,
   "metadata": {},
   "outputs": [
    {
     "ename": "TypeError",
     "evalue": "can only concatenate str (not \"int\") to str",
     "output_type": "error",
     "traceback": [
      "\u001b[1;31m---------------------------------------------------------------------------\u001b[0m",
      "\u001b[1;31mTypeError\u001b[0m                                 Traceback (most recent call last)",
      "\u001b[1;32m<ipython-input-59-4cbabd5b3812>\u001b[0m in \u001b[0;36m<module>\u001b[1;34m\u001b[0m\n\u001b[1;32m----> 1\u001b[1;33m \u001b[0mprint\u001b[0m\u001b[1;33m(\u001b[0m\u001b[1;34m'1'\u001b[0m \u001b[1;33m+\u001b[0m \u001b[1;36m1\u001b[0m\u001b[1;33m)\u001b[0m \u001b[1;31m#сложение двух разных типов не будет работать\u001b[0m\u001b[1;33m\u001b[0m\u001b[1;33m\u001b[0m\u001b[0m\n\u001b[0m",
      "\u001b[1;31mTypeError\u001b[0m: can only concatenate str (not \"int\") to str"
     ]
    }
   ],
   "source": [
    "print('1' + 1) # сложение двух разных типов данных не будет работать"
   ]
  },
  {
   "cell_type": "code",
   "execution_count": 60,
   "metadata": {},
   "outputs": [
    {
     "name": "stdout",
     "output_type": "stream",
     "text": [
      "12\n"
     ]
    }
   ],
   "source": [
    "a = 1\n",
    "print(str(a) + '2')\n",
    "# преобразование в строку"
   ]
  },
  {
   "cell_type": "code",
   "execution_count": 61,
   "metadata": {},
   "outputs": [
    {
     "name": "stdout",
     "output_type": "stream",
     "text": [
      "2\n"
     ]
    }
   ],
   "source": [
    "a = '1'\n",
    "print(int(a) + 1) # преобразование строки в число возможно если строка содержит число"
   ]
  },
  {
   "cell_type": "code",
   "execution_count": 62,
   "metadata": {},
   "outputs": [
    {
     "ename": "ValueError",
     "evalue": "invalid literal for int() with base 10: 'Один'",
     "output_type": "error",
     "traceback": [
      "\u001b[1;31m---------------------------------------------------------------------------\u001b[0m",
      "\u001b[1;31mValueError\u001b[0m                                Traceback (most recent call last)",
      "\u001b[1;32m<ipython-input-62-4a7be7706cea>\u001b[0m in \u001b[0;36m<module>\u001b[1;34m\u001b[0m\n\u001b[0;32m      1\u001b[0m \u001b[0ma\u001b[0m \u001b[1;33m=\u001b[0m \u001b[1;34m'Один'\u001b[0m \u001b[1;31m# преобразование строки в число НЕВОЗМОЖНО если строка НЕ содержит число, при попытке это сделать будет ошибка\u001b[0m\u001b[1;33m\u001b[0m\u001b[1;33m\u001b[0m\u001b[0m\n\u001b[1;32m----> 2\u001b[1;33m \u001b[0mprint\u001b[0m\u001b[1;33m(\u001b[0m\u001b[0mint\u001b[0m\u001b[1;33m(\u001b[0m\u001b[0ma\u001b[0m\u001b[1;33m)\u001b[0m\u001b[1;33m)\u001b[0m\u001b[1;33m\u001b[0m\u001b[1;33m\u001b[0m\u001b[0m\n\u001b[0m",
      "\u001b[1;31mValueError\u001b[0m: invalid literal for int() with base 10: 'Один'"
     ]
    }
   ],
   "source": [
    "a = 'Один' # преобразование строки в число НЕВОЗМОЖНО если строка НЕ содержит число, при попытке это сделать будет ошибка\n",
    "print(int(a))"
   ]
  },
  {
   "cell_type": "code",
   "execution_count": 65,
   "metadata": {},
   "outputs": [
    {
     "name": "stdout",
     "output_type": "stream",
     "text": [
      "SOS!!! SOS!!! SOS!!! SOS!!! SOS!!! SOS!!! SOS!!! SOS!!! SOS!!! SOS!!! \n"
     ]
    }
   ],
   "source": [
    "print('SOS!!! ' * 10) #Дублирование с помощью умножения строк "
   ]
  },
  {
   "cell_type": "code",
   "execution_count": 67,
   "metadata": {},
   "outputs": [
    {
     "name": "stdout",
     "output_type": "stream",
     "text": [
      "============================================================\n"
     ]
    }
   ],
   "source": [
    "print('===' * 20) #Дублирование с помощью умножения строк "
   ]
  },
  {
   "cell_type": "code",
   "execution_count": 68,
   "metadata": {},
   "outputs": [
    {
     "name": "stdout",
     "output_type": "stream",
     "text": [
      "35\n"
     ]
    }
   ],
   "source": [
    "print(len(\"превысокомногорассмотрительствующий\")) # подсчёт длины строки"
   ]
  },
  {
   "cell_type": "code",
   "execution_count": 69,
   "metadata": {},
   "outputs": [
    {
     "name": "stdout",
     "output_type": "stream",
     "text": [
      "первый символ равен \"Д\"\n",
      "пятый символ равен \"н\"\n",
      "предпоследний символ равен \"к\"\n"
     ]
    }
   ],
   "source": [
    "a = \"Длинная строка\" \n",
    "print('первый символ равен \"' + a[0] + '\"\\nпятый символ равен \"' + a[4] + '\"\\nпредпоследний символ равен \"' + a[-2] + '\"')\n",
    "# доступ к символам строки по их индексу, вначале строки индекс начинается с \"0\", а вот с конца строки уже с \"-1\"!"
   ]
  },
  {
   "cell_type": "code",
   "execution_count": 71,
   "metadata": {},
   "outputs": [
    {
     "name": "stdout",
     "output_type": "stream",
     "text": [
      "р\n",
      "_строка\n",
      "осто_стро\n",
      "просто_строка\n",
      "пот_т\n",
      "акортс_отсорп\n"
     ]
    }
   ],
   "source": [
    "a = 'просто_строка' # a[:] - выводит всю строку полностью, a[::-1] - выводит всю строку, но наоборот\n",
    "print(a[1:2] + '\\n' + a[6:] + '\\n' + a[2:-2] + '\\n' + a[:] + '\\n' + a[:10:2] + '\\n' + a[::-1])\n",
    "# как осуществляются срезы строки по индексам для вывода нужных значений"
   ]
  },
  {
   "cell_type": "code",
   "execution_count": 95,
   "metadata": {},
   "outputs": [
    {
     "name": "stdout",
     "output_type": "stream",
     "text": [
      "пре\n",
      "высоко\n",
      "много\n",
      "рас\n",
      "смотритель\n",
      "рассмотрительствующий\n",
      "превысокомногорассмотрительствующий\n",
      "йищюувтсьлетиртомссарогонмокосыверп\n"
     ]
    }
   ],
   "source": [
    "a = \"превысокомногорассмотрительствующий\" # пример разбора сложного слова с помощью срезов строки\n",
    "print(a[0:3] + '\\n' + a[3:9] + '\\n' + a[9:14] + '\\n' + a[14:-18] + '\\n' + a[17:-8] + '\\n' + a[14:] + '\\n' + a[:] + '\\n' + a[::-1])"
   ]
  },
  {
   "cell_type": "code",
   "execution_count": 108,
   "metadata": {},
   "outputs": [
    {
     "name": "stdout",
     "output_type": "stream",
     "text": [
      "высоко\n"
     ]
    }
   ],
   "source": [
    "a = \"превысокомногорассмотрительствующий\" # a[3:9] - выводит часть большой строки от символа по индексу [3] до символа по индексу [9]\n",
    "print(a[3:9])"
   ]
  },
  {
   "cell_type": "code",
   "execution_count": 109,
   "metadata": {},
   "outputs": [
    {
     "name": "stdout",
     "output_type": "stream",
     "text": [
      "смотритель\n"
     ]
    }
   ],
   "source": [
    "a = \"превысокомногорассмотрительствующий\" # a[17:-8] - выводит часть строки начиная от символа по положительному индексу [17] а дальше используется отрицательный индекс от конца строки [-8]\n",
    "print(a[17:-8])"
   ]
  },
  {
   "cell_type": "code",
   "execution_count": 97,
   "metadata": {},
   "outputs": [
    {
     "name": "stdout",
     "output_type": "stream",
     "text": [
      "сначала он сказал привет, а потом добавил пока\n"
     ]
    }
   ],
   "source": [
    "a = 'привет' # все варианты как можно сделать результирующую строку (зависящую от результатов выполнения программы)\n",
    "b = 'пока'\n",
    "print('сначала он сказал %s, а потом добавил %s' % (a, b))"
   ]
  },
  {
   "cell_type": "code",
   "execution_count": 98,
   "metadata": {},
   "outputs": [
    {
     "name": "stdout",
     "output_type": "stream",
     "text": [
      "сначала он сказал пока, а потом добавил привет\n"
     ]
    }
   ],
   "source": [
    "print('сначала он сказал %s, а потом добавил %s' % (b, a)) # в этом варианте переменные ОБЯЗАТЕЛЬНО должны идти по порядку "
   ]
  },
  {
   "cell_type": "code",
   "execution_count": 99,
   "metadata": {},
   "outputs": [
    {
     "name": "stdout",
     "output_type": "stream",
     "text": [
      "сначала он сказал привет, а потом добавил пока\n"
     ]
    }
   ],
   "source": [
    "print('сначала он сказал {}, а потом добавил {}'.format(a, b))"
   ]
  },
  {
   "cell_type": "code",
   "execution_count": 100,
   "metadata": {},
   "outputs": [
    {
     "name": "stdout",
     "output_type": "stream",
     "text": [
      "сначала он сказал пока, а потом добавил привет\n"
     ]
    }
   ],
   "source": [
    "print('сначала он сказал {1}, а потом добавил {0}'.format(a, b)) # таким образом можно указывать очерёдность для переменных начиная от нуля "
   ]
  },
  {
   "cell_type": "code",
   "execution_count": 101,
   "metadata": {},
   "outputs": [
    {
     "name": "stdout",
     "output_type": "stream",
     "text": [
      "сначала он сказал привет, а потом добавил пока\n"
     ]
    }
   ],
   "source": [
    "print(f'сначала он сказал {a}, а потом добавил {b}') # самый лучший, удобный и новый способ для воспроизведения результирующей строки"
   ]
  },
  {
   "cell_type": "code",
   "execution_count": 102,
   "metadata": {},
   "outputs": [
    {
     "name": "stdout",
     "output_type": "stream",
     "text": [
      "1\n",
      "2\n"
     ]
    }
   ],
   "source": [
    "print(1)\n",
    "# Одинарный комментарий\n",
    "print(2)"
   ]
  },
  {
   "cell_type": "code",
   "execution_count": 104,
   "metadata": {},
   "outputs": [
    {
     "name": "stdout",
     "output_type": "stream",
     "text": [
      "1\n",
      "2\n"
     ]
    }
   ],
   "source": [
    "print(1) # вариант №1\n",
    "\"\"\"Многострочный \n",
    "комментарий\"\"\"\n",
    "print(2)"
   ]
  },
  {
   "cell_type": "code",
   "execution_count": 107,
   "metadata": {},
   "outputs": [
    {
     "name": "stdout",
     "output_type": "stream",
     "text": [
      "1\n",
      "2\n"
     ]
    }
   ],
   "source": [
    "print(1) # вариант №2\n",
    "'''Многострочный \n",
    "комментарий'''\n",
    "print(2)"
   ]
  }
 ],
 "metadata": {
  "kernelspec": {
   "display_name": "Python 3",
   "language": "python",
   "name": "python3"
  },
  "language_info": {
   "codemirror_mode": {
    "name": "ipython",
    "version": 3
   },
   "file_extension": ".py",
   "mimetype": "text/x-python",
   "name": "python",
   "nbconvert_exporter": "python",
   "pygments_lexer": "ipython3",
   "version": "3.8.3"
  }
 },
 "nbformat": 4,
 "nbformat_minor": 4
}
